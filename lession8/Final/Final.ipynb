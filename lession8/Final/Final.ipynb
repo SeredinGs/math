{
 "cells": [
  {
   "cell_type": "markdown",
   "metadata": {},
   "source": [
    "### Курсовой проект\n",
    "В проектной работе хотел бы сделать анализ по годам выпуска фильма по данным imdb.com.<br>\n",
    "1.По годам выпуска рассчитать основные статистические показатели: Мода, медиана, квартили, дисперсию.<br>\n",
    "2.Проверить, работает ли нормальное распределение и Паретто.<br>\n",
    "3.Проверить есть ли зависимость бюджетов, рейтингов, жанров от года выпуска фильмов.<br>\n",
    "4.Посмотреть поведение год выпуска во времени.<br>\n",
    "В идеале, хотел бы сделать прогноз на 2020 год: какие жанры с какой вероятностью выйдут определенное количество фильмов с определенным бюджетом и из какой страны<br>"
   ]
  },
  {
   "cell_type": "code",
   "execution_count": 111,
   "metadata": {},
   "outputs": [],
   "source": [
    "%matplotlib inline\n",
    "import matplotlib.pyplot as plt\n",
    "import pandas as pd\n",
    "import numpy as np\n",
    "from collections import Counter\n",
    "from scipy import stats"
   ]
  },
  {
   "cell_type": "markdown",
   "metadata": {},
   "source": [
    "Подготовительные работы, загрузка файлов, их сведение в датафрейм summary"
   ]
  },
  {
   "cell_type": "code",
   "execution_count": 112,
   "metadata": {
    "scrolled": true
   },
   "outputs": [],
   "source": [
    "akas = pd.read_csv('data_akas.csv', sep='\\t', low_memory=False)"
   ]
  },
  {
   "cell_type": "code",
   "execution_count": 113,
   "metadata": {},
   "outputs": [],
   "source": [
    "ratings = pd.read_csv('data_ratings.csv', sep='\\t', low_memory=False)"
   ]
  },
  {
   "cell_type": "code",
   "execution_count": 114,
   "metadata": {},
   "outputs": [],
   "source": [
    "basics = pd.read_csv('data_basics.csv', sep='\\t', low_memory=False)"
   ]
  },
  {
   "cell_type": "code",
   "execution_count": 115,
   "metadata": {},
   "outputs": [
    {
     "name": "stderr",
     "output_type": "stream",
     "text": [
      "C:\\Program Files\\Python37\\lib\\site-packages\\ipykernel_launcher.py:2: SettingWithCopyWarning: \n",
      "A value is trying to be set on a copy of a slice from a DataFrame.\n",
      "Try using .loc[row_indexer,col_indexer] = value instead\n",
      "\n",
      "See the caveats in the documentation: http://pandas.pydata.org/pandas-docs/stable/user_guide/indexing.html#returning-a-view-versus-a-copy\n",
      "  \n"
     ]
    }
   ],
   "source": [
    "basics_f = basics[(basics['titleType'] == 'movie') & (basics['startYear'] != '\\\\N') & (basics['genres'] != '\\\\N')]\n",
    "basics_f['genre'] = basics_f['genres'].str.split(',', expand=True)[0]\n",
    "basics_f = basics_f.drop(columns=['isAdult', 'endYear', 'runtimeMinutes', 'genres', 'primaryTitle'])"
   ]
  },
  {
   "cell_type": "code",
   "execution_count": 116,
   "metadata": {},
   "outputs": [],
   "source": [
    "summary = pd.merge(basics_f, ratings, on='tconst', how='inner')"
   ]
  },
  {
   "cell_type": "markdown",
   "metadata": {},
   "source": [
    "Серии genres и years нам пригодятся дальше"
   ]
  },
  {
   "cell_type": "code",
   "execution_count": 117,
   "metadata": {},
   "outputs": [
    {
     "data": {
      "text/plain": [
       "array(['Romance', 'Documentary', 'Biography', 'Drama', 'Adventure',\n",
       "       'Comedy', 'Crime', 'Sci-Fi', 'History', 'War', 'Action', 'Western',\n",
       "       'Horror', 'Fantasy', 'Mystery', 'Animation', 'Musical', 'Thriller',\n",
       "       'Music', 'Film-Noir', 'Family', 'Sport', 'Adult', 'News',\n",
       "       'Game-Show', 'Reality-TV'], dtype=object)"
      ]
     },
     "execution_count": 117,
     "metadata": {},
     "output_type": "execute_result"
    }
   ],
   "source": [
    "genres = summary['genre'].unique()\n",
    "genres"
   ]
  },
  {
   "cell_type": "code",
   "execution_count": 118,
   "metadata": {},
   "outputs": [],
   "source": [
    "years = np.sort(summary['startYear'].unique())"
   ]
  },
  {
   "cell_type": "markdown",
   "metadata": {},
   "source": [
    "Функция, которая считает какого жанра было выпущено в каждом году и формирует по окончанию numpy-массив"
   ]
  },
  {
   "cell_type": "code",
   "execution_count": 82,
   "metadata": {},
   "outputs": [],
   "source": [
    "def count_genres(genre):\n",
    "    SpisokZhanrov = genres.tolist()\n",
    "    KolvoVGodu = []\n",
    "    for i in years:\n",
    "        ZhanryZaGod = summary[summary['startYear'] == i]\n",
    "        ZhanryZaGodBezGodv = ZhanryZaGod['genre']\n",
    "        listgenres = ZhanryZaGodBezGodv.tolist()\n",
    "        cnt = Counter(listgenres)\n",
    "        #print(i)\n",
    "        #print(cnt)\n",
    "        KolvoVGodu.append(cnt[genre])\n",
    "    kolvo_array = np.array(KolvoVGodu)\n",
    "    return kolvo_array"
   ]
  },
  {
   "cell_type": "markdown",
   "metadata": {},
   "source": [
    "## Задание 1\n",
    "Проведем расчет Моды, медианы, квартиля и дисперсии для жанра \"Драма\""
   ]
  },
  {
   "cell_type": "code",
   "execution_count": 98,
   "metadata": {},
   "outputs": [
    {
     "data": {
      "text/plain": [
       "dtype('int32')"
      ]
     },
     "execution_count": 98,
     "metadata": {},
     "output_type": "execute_result"
    }
   ],
   "source": [
    "array_drama = count_genres('Drama')"
   ]
  },
  {
   "cell_type": "code",
   "execution_count": 92,
   "metadata": {},
   "outputs": [
    {
     "data": {
      "text/plain": [
       "530.7741935483871"
      ]
     },
     "execution_count": 92,
     "metadata": {},
     "output_type": "execute_result"
    }
   ],
   "source": [
    "drama_mean = np.mean(array_drama)\n",
    "drama_mean"
   ]
  },
  {
   "cell_type": "code",
   "execution_count": 93,
   "metadata": {},
   "outputs": [
    {
     "data": {
      "text/plain": [
       "428.0"
      ]
     },
     "execution_count": 93,
     "metadata": {},
     "output_type": "execute_result"
    }
   ],
   "source": [
    "drama_median = np.median(array_drama)\n",
    "drama_median"
   ]
  },
  {
   "cell_type": "code",
   "execution_count": 96,
   "metadata": {},
   "outputs": [
    {
     "data": {
      "text/plain": [
       "ModeResult(mode=array([0]), count=array([9]))"
      ]
     },
     "execution_count": 96,
     "metadata": {},
     "output_type": "execute_result"
    }
   ],
   "source": [
    "drama_mode = stats.mode(array_drama, axis=None)\n",
    "drama_mode"
   ]
  },
  {
   "cell_type": "code",
   "execution_count": 100,
   "metadata": {},
   "outputs": [
    {
     "data": {
      "text/plain": [
       "23.513123318088873"
      ]
     },
     "execution_count": 100,
     "metadata": {},
     "output_type": "execute_result"
    }
   ],
   "source": [
    "drama_d = pow(np.std(array_drama),2)\n",
    "drama_d"
   ]
  },
  {
   "cell_type": "markdown",
   "metadata": {},
   "source": [
    "Изобразим квантили при помощи графика seaborn"
   ]
  },
  {
   "cell_type": "code",
   "execution_count": 101,
   "metadata": {},
   "outputs": [
    {
     "data": {
      "image/png": "[encoded data removed]",
      "text/plain": [
       "<Figure size 432x288 with 1 Axes>"
      ]
     },
     "metadata": {
      "needs_background": "light"
     },
     "output_type": "display_data"
    }
   ],
   "source": [
    "import seaborn as sns\n",
    "sns.boxplot(array_drama, orient='v')\n",
    "plt.show()"
   ]
  },
  {
   "cell_type": "markdown",
   "metadata": {},
   "source": [
    "## Задание 2\n",
    "Проверим работает ли распределение Паретто на данном массиве:"
   ]
  },
  {
   "cell_type": "code",
   "execution_count": 105,
   "metadata": {},
   "outputs": [
    {
     "data": {
      "text/plain": [
       "((array([-2.53800609, -2.21068797, -2.02236027, -1.88655026, -1.77861723,\n",
       "         -1.68814065, -1.60968827, -1.54005223, -1.47717282, -1.41964516,\n",
       "         -1.36646612, -1.31689327, -1.27036092, -1.22642763, -1.18474196,\n",
       "         -1.14501925, -1.10702556, -1.0705661 , -1.03547686, -1.00161834,\n",
       "         -0.9688708 , -0.93713066, -0.90630763, -0.87632249, -0.84710529,\n",
       "         -0.81859393, -0.79073298, -0.76347273, -0.73676838, -0.7105794 ,\n",
       "         -0.68486897, -0.65960351, -0.63475227, -0.61028702, -0.58618175,\n",
       "         -0.56241239, -0.53895663, -0.51579374, -0.49290436, -0.47027037,\n",
       "         -0.4478748 , -0.42570166, -0.40373589, -0.38196323, -0.36037016,\n",
       "         -0.33894385, -0.31767203, -0.29654301, -0.27554557, -0.25466893,\n",
       "         -0.23390271, -0.21323688, -0.19266173, -0.17216782, -0.15174598,\n",
       "         -0.13138724, -0.11108281, -0.09082408, -0.07060257, -0.05040988,\n",
       "         -0.03023773, -0.01007788,  0.01007788,  0.03023773,  0.05040988,\n",
       "          0.07060257,  0.09082408,  0.11108281,  0.13138724,  0.15174598,\n",
       "          0.17216782,  0.19266173,  0.21323688,  0.23390271,  0.25466893,\n",
       "          0.27554557,  0.29654301,  0.31767203,  0.33894385,  0.36037016,\n",
       "          0.38196323,  0.40373589,  0.42570166,  0.4478748 ,  0.47027037,\n",
       "          0.49290436,  0.51579374,  0.53895663,  0.56241239,  0.58618175,\n",
       "          0.61028702,  0.63475227,  0.65960351,  0.68486897,  0.7105794 ,\n",
       "          0.73676838,  0.76347273,  0.79073298,  0.81859393,  0.84710529,\n",
       "          0.87632249,  0.90630763,  0.93713066,  0.9688708 ,  1.00161834,\n",
       "          1.03547686,  1.0705661 ,  1.10702556,  1.14501925,  1.18474196,\n",
       "          1.22642763,  1.27036092,  1.31689327,  1.36646612,  1.41964516,\n",
       "          1.47717282,  1.54005223,  1.60968827,  1.68814065,  1.77861723,\n",
       "          1.88655026,  2.02236027,  2.21068797,  2.53800609]),\n",
       "  array([   0,    0,    0,    0,    0,    0,    0,    0,    0,    1,    1,\n",
       "            3,    4,    4,   13,   18,   19,   29,   57,   80,   83,   89,\n",
       "           89,   90,   92,   97,   97,   99,  100,  106,  111,  130,  158,\n",
       "          167,  173,  194,  199,  201,  203,  220,  227,  227,  230,  231,\n",
       "          235,  236,  239,  245,  245,  247,  261,  262,  269,  278,  292,\n",
       "          301,  334,  339,  351,  368,  406,  419,  437,  438,  438,  445,\n",
       "          468,  480,  482,  484,  485,  502,  527,  533,  551,  563,  567,\n",
       "          568,  569,  572,  576,  577,  579,  587,  594,  603,  603,  604,\n",
       "          605,  610,  630,  633,  635,  636,  639,  644,  656,  670,  679,\n",
       "          686,  693,  704,  714,  791,  835,  918,  946,  968, 1170, 1280,\n",
       "         1397, 1410, 1505, 1599, 1779, 1783, 1904, 1971, 1983, 2011, 2132,\n",
       "         2152, 2188, 2259])),\n",
       " (503.14695534289535, 530.774193548387, 0.894849574920956))"
      ]
     },
     "execution_count": 105,
     "metadata": {},
     "output_type": "execute_result"
    },
    {
     "data": {
      "image/png": "[encoded data removed]",
      "text/plain": [
       "<Figure size 432x288 with 1 Axes>"
      ]
     },
     "metadata": {
      "needs_background": "light"
     },
     "output_type": "display_data"
    }
   ],
   "source": [
    "from scipy import stats\n",
    "import seaborn as sns\n",
    "stats.probplot(array_drama, plot=sns.mpl.pyplot)"
   ]
  },
  {
   "cell_type": "markdown",
   "metadata": {},
   "source": [
    "## Задание 3 и 4"
   ]
  },
  {
   "cell_type": "markdown",
   "metadata": {},
   "source": [
    "Пронаблюдаем зависимость межу количеством драм и комедий. Для это сгенерируем массив для комедии"
   ]
  },
  {
   "cell_type": "code",
   "execution_count": 107,
   "metadata": {},
   "outputs": [],
   "source": [
    "array_comedy = count_genres('Comedy')"
   ]
  },
  {
   "cell_type": "code",
   "execution_count": 108,
   "metadata": {},
   "outputs": [
    {
     "data": {
      "text/plain": [
       "array([[1.       , 0.9916456],\n",
       "       [0.9916456, 1.       ]])"
      ]
     },
     "execution_count": 108,
     "metadata": {},
     "output_type": "execute_result"
    }
   ],
   "source": [
    "coeff = np.corrcoef(array_drama, array_comedy)\n",
    "coeff"
   ]
  },
  {
   "cell_type": "markdown",
   "metadata": {},
   "source": [
    "Наблюдаем явную прямую зависимость"
   ]
  },
  {
   "cell_type": "markdown",
   "metadata": {},
   "source": [
    "Пронаблюдаем зависимость межу количеством драм и вестенов. Для это сгенерируем массив для комедии"
   ]
  },
  {
   "cell_type": "code",
   "execution_count": 109,
   "metadata": {},
   "outputs": [],
   "source": [
    "array_western = count_genres('Western')"
   ]
  },
  {
   "cell_type": "code",
   "execution_count": 110,
   "metadata": {},
   "outputs": [
    {
     "data": {
      "text/plain": [
       "array([[ 1.        , -0.12999565],\n",
       "       [-0.12999565,  1.        ]])"
      ]
     },
     "execution_count": 110,
     "metadata": {},
     "output_type": "execute_result"
    }
   ],
   "source": [
    "coeff2 = np.corrcoef(array_drama, array_western)\n",
    "coeff2"
   ]
  },
  {
   "cell_type": "markdown",
   "metadata": {},
   "source": [
    "Наблюдаем очень слабую обратну зависимость"
   ]
  }
 ],
 "metadata": {
  "kernelspec": {
   "display_name": "Python 3",
   "language": "python",
   "name": "python3"
  },
  "language_info": {
   "codemirror_mode": {
    "name": "ipython",
    "version": 3
   },
   "file_extension": ".py",
   "mimetype": "text/x-python",
   "name": "python",
   "nbconvert_exporter": "python",
   "pygments_lexer": "ipython3",
   "version": "3.7.4"
  }
 },
 "nbformat": 4,
 "nbformat_minor": 2
}
